{
  "cells": [
    {
      "cell_type": "markdown",
      "source": [
        "... Continued from part 2"
      ],
      "metadata": {
        "id": "YeYIpmKawCGn"
      }
    },
    {
      "cell_type": "code",
      "execution_count": null,
      "metadata": {
        "id": "3NIMyDG-eMsY"
      },
      "outputs": [],
      "source": [
        "#Import Libraries\n",
        "import numpy as np\n",
        "import pandas as pd\n",
        "import matplotlib.pyplot as plt\n",
        "import seaborn as sns\n",
        "import os\n",
        "from google.colab import drive\n",
        "import datetime\n",
        "from datetime import timedelta\n",
        "import statsmodels.api as sm\n",
        "from pandas import concat\n",
        "from tqdm import tqdm\n",
        "from prettytable import PrettyTable\n",
        "import warnings\n",
        "from xgboost import XGBRegressor\n",
        "from sklearn.model_selection import GridSearchCV\n",
        "from sklearn.linear_model import LinearRegression\n",
        "from sklearn.ensemble import RandomForestRegressor\n",
        "from sklearn.tree import DecisionTreeRegressor\n",
        "from keras.models import Sequential\n",
        "from keras.layers import LSTM\n",
        "from tensorflow.keras.callbacks import EarlyStopping\n",
        "from keras.layers import Dense\n",
        "from keras.layers import GRU\n",
        "import tensorflow as tf\n",
        "from tensorflow.keras import metrics\n",
        "from statsmodels.tsa.arima.model import ARIMA\n",
        "import math\n",
        "from tensorflow.keras.callbacks import ModelCheckpoint\n",
        "import pickle\n",
        "import joblib\n",
        "from sklearn.preprocessing import StandardScaler\n",
        "warnings.filterwarnings('ignore')\n",
        "warnings.warn(\"deprecated\", DeprecationWarning)\n",
        "pd.set_option('display.max_columns', None)"
      ]
    },
    {
      "cell_type": "code",
      "execution_count": null,
      "metadata": {
        "colab": {
          "base_uri": "https://localhost:8080/"
        },
        "id": "BS8VoTfAeQn3",
        "outputId": "6664df72-4cb7-4b6f-c5a3-fddea057c514"
      },
      "outputs": [
        {
          "output_type": "stream",
          "name": "stdout",
          "text": [
            "Mounted at /content/gdrive\n",
            "/content\n"
          ]
        }
      ],
      "source": [
        "MOUNTPOINT = '/content/gdrive'\n",
        "DATADIR = os.path.join(MOUNTPOINT, 'My Drive', 'casestudy')\n",
        "drive.mount(MOUNTPOINT)\n",
        "dirPath = os.getcwd()\n",
        "print(dirPath)"
      ]
    },
    {
      "cell_type": "code",
      "execution_count": null,
      "metadata": {
        "id": "FGJxYYo5eTro"
      },
      "outputs": [],
      "source": [
        "# Load data\n",
        "df = pd.read_excel(dirPath+'/gdrive/My Drive/casestudy2/dfseries.xlsx')"
      ]
    },
    {
      "cell_type": "code",
      "execution_count": null,
      "metadata": {
        "colab": {
          "base_uri": "https://localhost:8080/",
          "height": 423
        },
        "id": "GREB8GT8k1Kr",
        "outputId": "ee7277c5-de1f-4e58-cfbd-32a4252e8ab7"
      },
      "outputs": [
        {
          "output_type": "execute_result",
          "data": {
            "text/plain": [
              "    start_time  total   run_time  pass  no_run  fail  exec_count\n",
              "0   2016-01-04    964   6.098808   919       2    43          42\n",
              "1   2016-01-05   1441   5.716791   219     449   773          82\n",
              "2   2016-01-06   4257  15.538374  1977    1961   319          94\n",
              "3   2016-01-07   4148  33.325904  3665      11   472         128\n",
              "4   2016-01-08   1002   7.131022   941      50    11          46\n",
              "..         ...    ...        ...   ...     ...   ...         ...\n",
              "754 2018-01-27   2074  10.934531   367      52  1655          77\n",
              "755 2018-01-28   6363  14.067379   474    2404  3485         122\n",
              "756 2018-01-29   6706  17.891077   825    2473  3408         150\n",
              "757 2018-01-30   4569  17.840890   775    1605  2189          95\n",
              "758 2018-01-31   2538   7.639399   498     439  1601          37\n",
              "\n",
              "[759 rows x 7 columns]"
            ],
            "text/html": [
              "\n",
              "  <div id=\"df-8cd2e649-c0dd-4cc4-9859-ec3ce8535441\">\n",
              "    <div class=\"colab-df-container\">\n",
              "      <div>\n",
              "<style scoped>\n",
              "    .dataframe tbody tr th:only-of-type {\n",
              "        vertical-align: middle;\n",
              "    }\n",
              "\n",
              "    .dataframe tbody tr th {\n",
              "        vertical-align: top;\n",
              "    }\n",
              "\n",
              "    .dataframe thead th {\n",
              "        text-align: right;\n",
              "    }\n",
              "</style>\n",
              "<table border=\"1\" class=\"dataframe\">\n",
              "  <thead>\n",
              "    <tr style=\"text-align: right;\">\n",
              "      <th></th>\n",
              "      <th>start_time</th>\n",
              "      <th>total</th>\n",
              "      <th>run_time</th>\n",
              "      <th>pass</th>\n",
              "      <th>no_run</th>\n",
              "      <th>fail</th>\n",
              "      <th>exec_count</th>\n",
              "    </tr>\n",
              "  </thead>\n",
              "  <tbody>\n",
              "    <tr>\n",
              "      <th>0</th>\n",
              "      <td>2016-01-04</td>\n",
              "      <td>964</td>\n",
              "      <td>6.098808</td>\n",
              "      <td>919</td>\n",
              "      <td>2</td>\n",
              "      <td>43</td>\n",
              "      <td>42</td>\n",
              "    </tr>\n",
              "    <tr>\n",
              "      <th>1</th>\n",
              "      <td>2016-01-05</td>\n",
              "      <td>1441</td>\n",
              "      <td>5.716791</td>\n",
              "      <td>219</td>\n",
              "      <td>449</td>\n",
              "      <td>773</td>\n",
              "      <td>82</td>\n",
              "    </tr>\n",
              "    <tr>\n",
              "      <th>2</th>\n",
              "      <td>2016-01-06</td>\n",
              "      <td>4257</td>\n",
              "      <td>15.538374</td>\n",
              "      <td>1977</td>\n",
              "      <td>1961</td>\n",
              "      <td>319</td>\n",
              "      <td>94</td>\n",
              "    </tr>\n",
              "    <tr>\n",
              "      <th>3</th>\n",
              "      <td>2016-01-07</td>\n",
              "      <td>4148</td>\n",
              "      <td>33.325904</td>\n",
              "      <td>3665</td>\n",
              "      <td>11</td>\n",
              "      <td>472</td>\n",
              "      <td>128</td>\n",
              "    </tr>\n",
              "    <tr>\n",
              "      <th>4</th>\n",
              "      <td>2016-01-08</td>\n",
              "      <td>1002</td>\n",
              "      <td>7.131022</td>\n",
              "      <td>941</td>\n",
              "      <td>50</td>\n",
              "      <td>11</td>\n",
              "      <td>46</td>\n",
              "    </tr>\n",
              "    <tr>\n",
              "      <th>...</th>\n",
              "      <td>...</td>\n",
              "      <td>...</td>\n",
              "      <td>...</td>\n",
              "      <td>...</td>\n",
              "      <td>...</td>\n",
              "      <td>...</td>\n",
              "      <td>...</td>\n",
              "    </tr>\n",
              "    <tr>\n",
              "      <th>754</th>\n",
              "      <td>2018-01-27</td>\n",
              "      <td>2074</td>\n",
              "      <td>10.934531</td>\n",
              "      <td>367</td>\n",
              "      <td>52</td>\n",
              "      <td>1655</td>\n",
              "      <td>77</td>\n",
              "    </tr>\n",
              "    <tr>\n",
              "      <th>755</th>\n",
              "      <td>2018-01-28</td>\n",
              "      <td>6363</td>\n",
              "      <td>14.067379</td>\n",
              "      <td>474</td>\n",
              "      <td>2404</td>\n",
              "      <td>3485</td>\n",
              "      <td>122</td>\n",
              "    </tr>\n",
              "    <tr>\n",
              "      <th>756</th>\n",
              "      <td>2018-01-29</td>\n",
              "      <td>6706</td>\n",
              "      <td>17.891077</td>\n",
              "      <td>825</td>\n",
              "      <td>2473</td>\n",
              "      <td>3408</td>\n",
              "      <td>150</td>\n",
              "    </tr>\n",
              "    <tr>\n",
              "      <th>757</th>\n",
              "      <td>2018-01-30</td>\n",
              "      <td>4569</td>\n",
              "      <td>17.840890</td>\n",
              "      <td>775</td>\n",
              "      <td>1605</td>\n",
              "      <td>2189</td>\n",
              "      <td>95</td>\n",
              "    </tr>\n",
              "    <tr>\n",
              "      <th>758</th>\n",
              "      <td>2018-01-31</td>\n",
              "      <td>2538</td>\n",
              "      <td>7.639399</td>\n",
              "      <td>498</td>\n",
              "      <td>439</td>\n",
              "      <td>1601</td>\n",
              "      <td>37</td>\n",
              "    </tr>\n",
              "  </tbody>\n",
              "</table>\n",
              "<p>759 rows × 7 columns</p>\n",
              "</div>\n",
              "      <button class=\"colab-df-convert\" onclick=\"convertToInteractive('df-8cd2e649-c0dd-4cc4-9859-ec3ce8535441')\"\n",
              "              title=\"Convert this dataframe to an interactive table.\"\n",
              "              style=\"display:none;\">\n",
              "        \n",
              "  <svg xmlns=\"http://www.w3.org/2000/svg\" height=\"24px\"viewBox=\"0 0 24 24\"\n",
              "       width=\"24px\">\n",
              "    <path d=\"M0 0h24v24H0V0z\" fill=\"none\"/>\n",
              "    <path d=\"M18.56 5.44l.94 2.06.94-2.06 2.06-.94-2.06-.94-.94-2.06-.94 2.06-2.06.94zm-11 1L8.5 8.5l.94-2.06 2.06-.94-2.06-.94L8.5 2.5l-.94 2.06-2.06.94zm10 10l.94 2.06.94-2.06 2.06-.94-2.06-.94-.94-2.06-.94 2.06-2.06.94z\"/><path d=\"M17.41 7.96l-1.37-1.37c-.4-.4-.92-.59-1.43-.59-.52 0-1.04.2-1.43.59L10.3 9.45l-7.72 7.72c-.78.78-.78 2.05 0 2.83L4 21.41c.39.39.9.59 1.41.59.51 0 1.02-.2 1.41-.59l7.78-7.78 2.81-2.81c.8-.78.8-2.07 0-2.86zM5.41 20L4 18.59l7.72-7.72 1.47 1.35L5.41 20z\"/>\n",
              "  </svg>\n",
              "      </button>\n",
              "      \n",
              "  <style>\n",
              "    .colab-df-container {\n",
              "      display:flex;\n",
              "      flex-wrap:wrap;\n",
              "      gap: 12px;\n",
              "    }\n",
              "\n",
              "    .colab-df-convert {\n",
              "      background-color: #E8F0FE;\n",
              "      border: none;\n",
              "      border-radius: 50%;\n",
              "      cursor: pointer;\n",
              "      display: none;\n",
              "      fill: #1967D2;\n",
              "      height: 32px;\n",
              "      padding: 0 0 0 0;\n",
              "      width: 32px;\n",
              "    }\n",
              "\n",
              "    .colab-df-convert:hover {\n",
              "      background-color: #E2EBFA;\n",
              "      box-shadow: 0px 1px 2px rgba(60, 64, 67, 0.3), 0px 1px 3px 1px rgba(60, 64, 67, 0.15);\n",
              "      fill: #174EA6;\n",
              "    }\n",
              "\n",
              "    [theme=dark] .colab-df-convert {\n",
              "      background-color: #3B4455;\n",
              "      fill: #D2E3FC;\n",
              "    }\n",
              "\n",
              "    [theme=dark] .colab-df-convert:hover {\n",
              "      background-color: #434B5C;\n",
              "      box-shadow: 0px 1px 3px 1px rgba(0, 0, 0, 0.15);\n",
              "      filter: drop-shadow(0px 1px 2px rgba(0, 0, 0, 0.3));\n",
              "      fill: #FFFFFF;\n",
              "    }\n",
              "  </style>\n",
              "\n",
              "      <script>\n",
              "        const buttonEl =\n",
              "          document.querySelector('#df-8cd2e649-c0dd-4cc4-9859-ec3ce8535441 button.colab-df-convert');\n",
              "        buttonEl.style.display =\n",
              "          google.colab.kernel.accessAllowed ? 'block' : 'none';\n",
              "\n",
              "        async function convertToInteractive(key) {\n",
              "          const element = document.querySelector('#df-8cd2e649-c0dd-4cc4-9859-ec3ce8535441');\n",
              "          const dataTable =\n",
              "            await google.colab.kernel.invokeFunction('convertToInteractive',\n",
              "                                                     [key], {});\n",
              "          if (!dataTable) return;\n",
              "\n",
              "          const docLinkHtml = 'Like what you see? Visit the ' +\n",
              "            '<a target=\"_blank\" href=https://colab.research.google.com/notebooks/data_table.ipynb>data table notebook</a>'\n",
              "            + ' to learn more about interactive tables.';\n",
              "          element.innerHTML = '';\n",
              "          dataTable['output_type'] = 'display_data';\n",
              "          await google.colab.output.renderOutput(dataTable, element);\n",
              "          const docLink = document.createElement('div');\n",
              "          docLink.innerHTML = docLinkHtml;\n",
              "          element.appendChild(docLink);\n",
              "        }\n",
              "      </script>\n",
              "    </div>\n",
              "  </div>\n",
              "  "
            ]
          },
          "metadata": {},
          "execution_count": 4
        }
      ],
      "source": [
        "df"
      ]
    },
    {
      "cell_type": "code",
      "execution_count": null,
      "metadata": {
        "colab": {
          "base_uri": "https://localhost:8080/",
          "height": 175
        },
        "id": "W1BI80xSACqm",
        "outputId": "f398e91a-ee40-4341-f015-0bdb107dee58"
      },
      "outputs": [
        {
          "output_type": "execute_result",
          "data": {
            "text/plain": [
              "            total   run_time  pass  no_run  fail  exec_count\n",
              "start_time                                                  \n",
              "2016-01-04    964   6.098808   919       2    43          42\n",
              "2016-01-05   1441   5.716791   219     449   773          82\n",
              "2016-01-06   4257  15.538374  1977    1961   319          94"
            ],
            "text/html": [
              "\n",
              "  <div id=\"df-d0f81610-683b-4a49-aa63-5a7c1a2c58dd\">\n",
              "    <div class=\"colab-df-container\">\n",
              "      <div>\n",
              "<style scoped>\n",
              "    .dataframe tbody tr th:only-of-type {\n",
              "        vertical-align: middle;\n",
              "    }\n",
              "\n",
              "    .dataframe tbody tr th {\n",
              "        vertical-align: top;\n",
              "    }\n",
              "\n",
              "    .dataframe thead th {\n",
              "        text-align: right;\n",
              "    }\n",
              "</style>\n",
              "<table border=\"1\" class=\"dataframe\">\n",
              "  <thead>\n",
              "    <tr style=\"text-align: right;\">\n",
              "      <th></th>\n",
              "      <th>total</th>\n",
              "      <th>run_time</th>\n",
              "      <th>pass</th>\n",
              "      <th>no_run</th>\n",
              "      <th>fail</th>\n",
              "      <th>exec_count</th>\n",
              "    </tr>\n",
              "    <tr>\n",
              "      <th>start_time</th>\n",
              "      <th></th>\n",
              "      <th></th>\n",
              "      <th></th>\n",
              "      <th></th>\n",
              "      <th></th>\n",
              "      <th></th>\n",
              "    </tr>\n",
              "  </thead>\n",
              "  <tbody>\n",
              "    <tr>\n",
              "      <th>2016-01-04</th>\n",
              "      <td>964</td>\n",
              "      <td>6.098808</td>\n",
              "      <td>919</td>\n",
              "      <td>2</td>\n",
              "      <td>43</td>\n",
              "      <td>42</td>\n",
              "    </tr>\n",
              "    <tr>\n",
              "      <th>2016-01-05</th>\n",
              "      <td>1441</td>\n",
              "      <td>5.716791</td>\n",
              "      <td>219</td>\n",
              "      <td>449</td>\n",
              "      <td>773</td>\n",
              "      <td>82</td>\n",
              "    </tr>\n",
              "    <tr>\n",
              "      <th>2016-01-06</th>\n",
              "      <td>4257</td>\n",
              "      <td>15.538374</td>\n",
              "      <td>1977</td>\n",
              "      <td>1961</td>\n",
              "      <td>319</td>\n",
              "      <td>94</td>\n",
              "    </tr>\n",
              "  </tbody>\n",
              "</table>\n",
              "</div>\n",
              "      <button class=\"colab-df-convert\" onclick=\"convertToInteractive('df-d0f81610-683b-4a49-aa63-5a7c1a2c58dd')\"\n",
              "              title=\"Convert this dataframe to an interactive table.\"\n",
              "              style=\"display:none;\">\n",
              "        \n",
              "  <svg xmlns=\"http://www.w3.org/2000/svg\" height=\"24px\"viewBox=\"0 0 24 24\"\n",
              "       width=\"24px\">\n",
              "    <path d=\"M0 0h24v24H0V0z\" fill=\"none\"/>\n",
              "    <path d=\"M18.56 5.44l.94 2.06.94-2.06 2.06-.94-2.06-.94-.94-2.06-.94 2.06-2.06.94zm-11 1L8.5 8.5l.94-2.06 2.06-.94-2.06-.94L8.5 2.5l-.94 2.06-2.06.94zm10 10l.94 2.06.94-2.06 2.06-.94-2.06-.94-.94-2.06-.94 2.06-2.06.94z\"/><path d=\"M17.41 7.96l-1.37-1.37c-.4-.4-.92-.59-1.43-.59-.52 0-1.04.2-1.43.59L10.3 9.45l-7.72 7.72c-.78.78-.78 2.05 0 2.83L4 21.41c.39.39.9.59 1.41.59.51 0 1.02-.2 1.41-.59l7.78-7.78 2.81-2.81c.8-.78.8-2.07 0-2.86zM5.41 20L4 18.59l7.72-7.72 1.47 1.35L5.41 20z\"/>\n",
              "  </svg>\n",
              "      </button>\n",
              "      \n",
              "  <style>\n",
              "    .colab-df-container {\n",
              "      display:flex;\n",
              "      flex-wrap:wrap;\n",
              "      gap: 12px;\n",
              "    }\n",
              "\n",
              "    .colab-df-convert {\n",
              "      background-color: #E8F0FE;\n",
              "      border: none;\n",
              "      border-radius: 50%;\n",
              "      cursor: pointer;\n",
              "      display: none;\n",
              "      fill: #1967D2;\n",
              "      height: 32px;\n",
              "      padding: 0 0 0 0;\n",
              "      width: 32px;\n",
              "    }\n",
              "\n",
              "    .colab-df-convert:hover {\n",
              "      background-color: #E2EBFA;\n",
              "      box-shadow: 0px 1px 2px rgba(60, 64, 67, 0.3), 0px 1px 3px 1px rgba(60, 64, 67, 0.15);\n",
              "      fill: #174EA6;\n",
              "    }\n",
              "\n",
              "    [theme=dark] .colab-df-convert {\n",
              "      background-color: #3B4455;\n",
              "      fill: #D2E3FC;\n",
              "    }\n",
              "\n",
              "    [theme=dark] .colab-df-convert:hover {\n",
              "      background-color: #434B5C;\n",
              "      box-shadow: 0px 1px 3px 1px rgba(0, 0, 0, 0.15);\n",
              "      filter: drop-shadow(0px 1px 2px rgba(0, 0, 0, 0.3));\n",
              "      fill: #FFFFFF;\n",
              "    }\n",
              "  </style>\n",
              "\n",
              "      <script>\n",
              "        const buttonEl =\n",
              "          document.querySelector('#df-d0f81610-683b-4a49-aa63-5a7c1a2c58dd button.colab-df-convert');\n",
              "        buttonEl.style.display =\n",
              "          google.colab.kernel.accessAllowed ? 'block' : 'none';\n",
              "\n",
              "        async function convertToInteractive(key) {\n",
              "          const element = document.querySelector('#df-d0f81610-683b-4a49-aa63-5a7c1a2c58dd');\n",
              "          const dataTable =\n",
              "            await google.colab.kernel.invokeFunction('convertToInteractive',\n",
              "                                                     [key], {});\n",
              "          if (!dataTable) return;\n",
              "\n",
              "          const docLinkHtml = 'Like what you see? Visit the ' +\n",
              "            '<a target=\"_blank\" href=https://colab.research.google.com/notebooks/data_table.ipynb>data table notebook</a>'\n",
              "            + ' to learn more about interactive tables.';\n",
              "          element.innerHTML = '';\n",
              "          dataTable['output_type'] = 'display_data';\n",
              "          await google.colab.output.renderOutput(dataTable, element);\n",
              "          const docLink = document.createElement('div');\n",
              "          docLink.innerHTML = docLinkHtml;\n",
              "          element.appendChild(docLink);\n",
              "        }\n",
              "      </script>\n",
              "    </div>\n",
              "  </div>\n",
              "  "
            ]
          },
          "metadata": {},
          "execution_count": 5
        }
      ],
      "source": [
        "df.index = df.start_time\n",
        "df.drop(columns='start_time',axis=1, inplace=True)\n",
        "df.head(3)"
      ]
    },
    {
      "cell_type": "markdown",
      "source": [
        "## Mulitvariate - Multi Step Forecasting"
      ],
      "metadata": {
        "id": "aKW6LJg3-W5r"
      }
    },
    {
      "cell_type": "markdown",
      "source": [
        "Now we will add relevant features to the 'Start_time' feature which we had used for Univariate Forecasting earlier.\n",
        "\n",
        "This will make it a multi variate forecasting.\n",
        "\n",
        "We will predict/forecast - 7 days into the future. Making it a multistep forecasting.\n",
        "\n",
        "During EDA we found that features, PASS and EXEC_COUNT had a good influence on the runtime. Hence we will use these features."
      ],
      "metadata": {
        "id": "cMY5zfiW-cfl"
      }
    },
    {
      "cell_type": "markdown",
      "source": [
        "Data Processing"
      ],
      "metadata": {
        "id": "GEDmyfHTVxhr"
      }
    },
    {
      "cell_type": "code",
      "source": [
        "dfmul = df.copy()"
      ],
      "metadata": {
        "id": "bMzabP0Z_5uF"
      },
      "execution_count": null,
      "outputs": []
    },
    {
      "cell_type": "code",
      "execution_count": null,
      "metadata": {
        "id": "PDFlsJ8gBX--"
      },
      "outputs": [],
      "source": [
        "dfmul.drop(index = dfmul[dfmul['run_time']>100].index, axis=0, inplace=True) # Remove anomalies."
      ]
    },
    {
      "cell_type": "code",
      "execution_count": null,
      "metadata": {
        "id": "N0UgdbbgPJsM",
        "colab": {
          "base_uri": "https://localhost:8080/"
        },
        "outputId": "6ef51e24-0c29-4acd-bbd2-0f330850c938"
      },
      "outputs": [
        {
          "output_type": "execute_result",
          "data": {
            "text/plain": [
              "749"
            ]
          },
          "metadata": {},
          "execution_count": 8
        }
      ],
      "source": [
        "len(dfmul)"
      ]
    },
    {
      "cell_type": "code",
      "source": [
        "dfmul"
      ],
      "metadata": {
        "id": "0GKjuqNEwIbY",
        "colab": {
          "base_uri": "https://localhost:8080/",
          "height": 455
        },
        "outputId": "50c22828-0d4e-4c57-9bbf-8d0a0c3fc394"
      },
      "execution_count": null,
      "outputs": [
        {
          "output_type": "execute_result",
          "data": {
            "text/plain": [
              "            total   run_time  pass  no_run  fail  exec_count\n",
              "start_time                                                  \n",
              "2016-01-04    964   6.098808   919       2    43          42\n",
              "2016-01-05   1441   5.716791   219     449   773          82\n",
              "2016-01-06   4257  15.538374  1977    1961   319          94\n",
              "2016-01-07   4148  33.325904  3665      11   472         128\n",
              "2016-01-08   1002   7.131022   941      50    11          46\n",
              "...           ...        ...   ...     ...   ...         ...\n",
              "2018-01-27   2074  10.934531   367      52  1655          77\n",
              "2018-01-28   6363  14.067379   474    2404  3485         122\n",
              "2018-01-29   6706  17.891077   825    2473  3408         150\n",
              "2018-01-30   4569  17.840890   775    1605  2189          95\n",
              "2018-01-31   2538   7.639399   498     439  1601          37\n",
              "\n",
              "[749 rows x 6 columns]"
            ],
            "text/html": [
              "\n",
              "  <div id=\"df-732596cc-1f0d-4d14-b961-7813be5653f5\">\n",
              "    <div class=\"colab-df-container\">\n",
              "      <div>\n",
              "<style scoped>\n",
              "    .dataframe tbody tr th:only-of-type {\n",
              "        vertical-align: middle;\n",
              "    }\n",
              "\n",
              "    .dataframe tbody tr th {\n",
              "        vertical-align: top;\n",
              "    }\n",
              "\n",
              "    .dataframe thead th {\n",
              "        text-align: right;\n",
              "    }\n",
              "</style>\n",
              "<table border=\"1\" class=\"dataframe\">\n",
              "  <thead>\n",
              "    <tr style=\"text-align: right;\">\n",
              "      <th></th>\n",
              "      <th>total</th>\n",
              "      <th>run_time</th>\n",
              "      <th>pass</th>\n",
              "      <th>no_run</th>\n",
              "      <th>fail</th>\n",
              "      <th>exec_count</th>\n",
              "    </tr>\n",
              "    <tr>\n",
              "      <th>start_time</th>\n",
              "      <th></th>\n",
              "      <th></th>\n",
              "      <th></th>\n",
              "      <th></th>\n",
              "      <th></th>\n",
              "      <th></th>\n",
              "    </tr>\n",
              "  </thead>\n",
              "  <tbody>\n",
              "    <tr>\n",
              "      <th>2016-01-04</th>\n",
              "      <td>964</td>\n",
              "      <td>6.098808</td>\n",
              "      <td>919</td>\n",
              "      <td>2</td>\n",
              "      <td>43</td>\n",
              "      <td>42</td>\n",
              "    </tr>\n",
              "    <tr>\n",
              "      <th>2016-01-05</th>\n",
              "      <td>1441</td>\n",
              "      <td>5.716791</td>\n",
              "      <td>219</td>\n",
              "      <td>449</td>\n",
              "      <td>773</td>\n",
              "      <td>82</td>\n",
              "    </tr>\n",
              "    <tr>\n",
              "      <th>2016-01-06</th>\n",
              "      <td>4257</td>\n",
              "      <td>15.538374</td>\n",
              "      <td>1977</td>\n",
              "      <td>1961</td>\n",
              "      <td>319</td>\n",
              "      <td>94</td>\n",
              "    </tr>\n",
              "    <tr>\n",
              "      <th>2016-01-07</th>\n",
              "      <td>4148</td>\n",
              "      <td>33.325904</td>\n",
              "      <td>3665</td>\n",
              "      <td>11</td>\n",
              "      <td>472</td>\n",
              "      <td>128</td>\n",
              "    </tr>\n",
              "    <tr>\n",
              "      <th>2016-01-08</th>\n",
              "      <td>1002</td>\n",
              "      <td>7.131022</td>\n",
              "      <td>941</td>\n",
              "      <td>50</td>\n",
              "      <td>11</td>\n",
              "      <td>46</td>\n",
              "    </tr>\n",
              "    <tr>\n",
              "      <th>...</th>\n",
              "      <td>...</td>\n",
              "      <td>...</td>\n",
              "      <td>...</td>\n",
              "      <td>...</td>\n",
              "      <td>...</td>\n",
              "      <td>...</td>\n",
              "    </tr>\n",
              "    <tr>\n",
              "      <th>2018-01-27</th>\n",
              "      <td>2074</td>\n",
              "      <td>10.934531</td>\n",
              "      <td>367</td>\n",
              "      <td>52</td>\n",
              "      <td>1655</td>\n",
              "      <td>77</td>\n",
              "    </tr>\n",
              "    <tr>\n",
              "      <th>2018-01-28</th>\n",
              "      <td>6363</td>\n",
              "      <td>14.067379</td>\n",
              "      <td>474</td>\n",
              "      <td>2404</td>\n",
              "      <td>3485</td>\n",
              "      <td>122</td>\n",
              "    </tr>\n",
              "    <tr>\n",
              "      <th>2018-01-29</th>\n",
              "      <td>6706</td>\n",
              "      <td>17.891077</td>\n",
              "      <td>825</td>\n",
              "      <td>2473</td>\n",
              "      <td>3408</td>\n",
              "      <td>150</td>\n",
              "    </tr>\n",
              "    <tr>\n",
              "      <th>2018-01-30</th>\n",
              "      <td>4569</td>\n",
              "      <td>17.840890</td>\n",
              "      <td>775</td>\n",
              "      <td>1605</td>\n",
              "      <td>2189</td>\n",
              "      <td>95</td>\n",
              "    </tr>\n",
              "    <tr>\n",
              "      <th>2018-01-31</th>\n",
              "      <td>2538</td>\n",
              "      <td>7.639399</td>\n",
              "      <td>498</td>\n",
              "      <td>439</td>\n",
              "      <td>1601</td>\n",
              "      <td>37</td>\n",
              "    </tr>\n",
              "  </tbody>\n",
              "</table>\n",
              "<p>749 rows × 6 columns</p>\n",
              "</div>\n",
              "      <button class=\"colab-df-convert\" onclick=\"convertToInteractive('df-732596cc-1f0d-4d14-b961-7813be5653f5')\"\n",
              "              title=\"Convert this dataframe to an interactive table.\"\n",
              "              style=\"display:none;\">\n",
              "        \n",
              "  <svg xmlns=\"http://www.w3.org/2000/svg\" height=\"24px\"viewBox=\"0 0 24 24\"\n",
              "       width=\"24px\">\n",
              "    <path d=\"M0 0h24v24H0V0z\" fill=\"none\"/>\n",
              "    <path d=\"M18.56 5.44l.94 2.06.94-2.06 2.06-.94-2.06-.94-.94-2.06-.94 2.06-2.06.94zm-11 1L8.5 8.5l.94-2.06 2.06-.94-2.06-.94L8.5 2.5l-.94 2.06-2.06.94zm10 10l.94 2.06.94-2.06 2.06-.94-2.06-.94-.94-2.06-.94 2.06-2.06.94z\"/><path d=\"M17.41 7.96l-1.37-1.37c-.4-.4-.92-.59-1.43-.59-.52 0-1.04.2-1.43.59L10.3 9.45l-7.72 7.72c-.78.78-.78 2.05 0 2.83L4 21.41c.39.39.9.59 1.41.59.51 0 1.02-.2 1.41-.59l7.78-7.78 2.81-2.81c.8-.78.8-2.07 0-2.86zM5.41 20L4 18.59l7.72-7.72 1.47 1.35L5.41 20z\"/>\n",
              "  </svg>\n",
              "      </button>\n",
              "      \n",
              "  <style>\n",
              "    .colab-df-container {\n",
              "      display:flex;\n",
              "      flex-wrap:wrap;\n",
              "      gap: 12px;\n",
              "    }\n",
              "\n",
              "    .colab-df-convert {\n",
              "      background-color: #E8F0FE;\n",
              "      border: none;\n",
              "      border-radius: 50%;\n",
              "      cursor: pointer;\n",
              "      display: none;\n",
              "      fill: #1967D2;\n",
              "      height: 32px;\n",
              "      padding: 0 0 0 0;\n",
              "      width: 32px;\n",
              "    }\n",
              "\n",
              "    .colab-df-convert:hover {\n",
              "      background-color: #E2EBFA;\n",
              "      box-shadow: 0px 1px 2px rgba(60, 64, 67, 0.3), 0px 1px 3px 1px rgba(60, 64, 67, 0.15);\n",
              "      fill: #174EA6;\n",
              "    }\n",
              "\n",
              "    [theme=dark] .colab-df-convert {\n",
              "      background-color: #3B4455;\n",
              "      fill: #D2E3FC;\n",
              "    }\n",
              "\n",
              "    [theme=dark] .colab-df-convert:hover {\n",
              "      background-color: #434B5C;\n",
              "      box-shadow: 0px 1px 3px 1px rgba(0, 0, 0, 0.15);\n",
              "      filter: drop-shadow(0px 1px 2px rgba(0, 0, 0, 0.3));\n",
              "      fill: #FFFFFF;\n",
              "    }\n",
              "  </style>\n",
              "\n",
              "      <script>\n",
              "        const buttonEl =\n",
              "          document.querySelector('#df-732596cc-1f0d-4d14-b961-7813be5653f5 button.colab-df-convert');\n",
              "        buttonEl.style.display =\n",
              "          google.colab.kernel.accessAllowed ? 'block' : 'none';\n",
              "\n",
              "        async function convertToInteractive(key) {\n",
              "          const element = document.querySelector('#df-732596cc-1f0d-4d14-b961-7813be5653f5');\n",
              "          const dataTable =\n",
              "            await google.colab.kernel.invokeFunction('convertToInteractive',\n",
              "                                                     [key], {});\n",
              "          if (!dataTable) return;\n",
              "\n",
              "          const docLinkHtml = 'Like what you see? Visit the ' +\n",
              "            '<a target=\"_blank\" href=https://colab.research.google.com/notebooks/data_table.ipynb>data table notebook</a>'\n",
              "            + ' to learn more about interactive tables.';\n",
              "          element.innerHTML = '';\n",
              "          dataTable['output_type'] = 'display_data';\n",
              "          await google.colab.output.renderOutput(dataTable, element);\n",
              "          const docLink = document.createElement('div');\n",
              "          docLink.innerHTML = docLinkHtml;\n",
              "          element.appendChild(docLink);\n",
              "        }\n",
              "      </script>\n",
              "    </div>\n",
              "  </div>\n",
              "  "
            ]
          },
          "metadata": {},
          "execution_count": 9
        }
      ]
    },
    {
      "cell_type": "code",
      "source": [
        "dfmul.drop(columns=['total','no_run','fail'], axis=1, inplace=True)"
      ],
      "metadata": {
        "id": "WOOB_OWLwIeF"
      },
      "execution_count": null,
      "outputs": []
    },
    {
      "cell_type": "code",
      "source": [
        "dfmul.head(2)"
      ],
      "metadata": {
        "id": "9XrrZO8FwIg6",
        "colab": {
          "base_uri": "https://localhost:8080/",
          "height": 143
        },
        "outputId": "4b2451f2-edc5-43d7-d48f-447f106211df"
      },
      "execution_count": null,
      "outputs": [
        {
          "output_type": "execute_result",
          "data": {
            "text/plain": [
              "            run_time  pass  exec_count\n",
              "start_time                            \n",
              "2016-01-04  6.098808   919          42\n",
              "2016-01-05  5.716791   219          82"
            ],
            "text/html": [
              "\n",
              "  <div id=\"df-e708ef8b-e129-4b09-9be1-9869c28cc23c\">\n",
              "    <div class=\"colab-df-container\">\n",
              "      <div>\n",
              "<style scoped>\n",
              "    .dataframe tbody tr th:only-of-type {\n",
              "        vertical-align: middle;\n",
              "    }\n",
              "\n",
              "    .dataframe tbody tr th {\n",
              "        vertical-align: top;\n",
              "    }\n",
              "\n",
              "    .dataframe thead th {\n",
              "        text-align: right;\n",
              "    }\n",
              "</style>\n",
              "<table border=\"1\" class=\"dataframe\">\n",
              "  <thead>\n",
              "    <tr style=\"text-align: right;\">\n",
              "      <th></th>\n",
              "      <th>run_time</th>\n",
              "      <th>pass</th>\n",
              "      <th>exec_count</th>\n",
              "    </tr>\n",
              "    <tr>\n",
              "      <th>start_time</th>\n",
              "      <th></th>\n",
              "      <th></th>\n",
              "      <th></th>\n",
              "    </tr>\n",
              "  </thead>\n",
              "  <tbody>\n",
              "    <tr>\n",
              "      <th>2016-01-04</th>\n",
              "      <td>6.098808</td>\n",
              "      <td>919</td>\n",
              "      <td>42</td>\n",
              "    </tr>\n",
              "    <tr>\n",
              "      <th>2016-01-05</th>\n",
              "      <td>5.716791</td>\n",
              "      <td>219</td>\n",
              "      <td>82</td>\n",
              "    </tr>\n",
              "  </tbody>\n",
              "</table>\n",
              "</div>\n",
              "      <button class=\"colab-df-convert\" onclick=\"convertToInteractive('df-e708ef8b-e129-4b09-9be1-9869c28cc23c')\"\n",
              "              title=\"Convert this dataframe to an interactive table.\"\n",
              "              style=\"display:none;\">\n",
              "        \n",
              "  <svg xmlns=\"http://www.w3.org/2000/svg\" height=\"24px\"viewBox=\"0 0 24 24\"\n",
              "       width=\"24px\">\n",
              "    <path d=\"M0 0h24v24H0V0z\" fill=\"none\"/>\n",
              "    <path d=\"M18.56 5.44l.94 2.06.94-2.06 2.06-.94-2.06-.94-.94-2.06-.94 2.06-2.06.94zm-11 1L8.5 8.5l.94-2.06 2.06-.94-2.06-.94L8.5 2.5l-.94 2.06-2.06.94zm10 10l.94 2.06.94-2.06 2.06-.94-2.06-.94-.94-2.06-.94 2.06-2.06.94z\"/><path d=\"M17.41 7.96l-1.37-1.37c-.4-.4-.92-.59-1.43-.59-.52 0-1.04.2-1.43.59L10.3 9.45l-7.72 7.72c-.78.78-.78 2.05 0 2.83L4 21.41c.39.39.9.59 1.41.59.51 0 1.02-.2 1.41-.59l7.78-7.78 2.81-2.81c.8-.78.8-2.07 0-2.86zM5.41 20L4 18.59l7.72-7.72 1.47 1.35L5.41 20z\"/>\n",
              "  </svg>\n",
              "      </button>\n",
              "      \n",
              "  <style>\n",
              "    .colab-df-container {\n",
              "      display:flex;\n",
              "      flex-wrap:wrap;\n",
              "      gap: 12px;\n",
              "    }\n",
              "\n",
              "    .colab-df-convert {\n",
              "      background-color: #E8F0FE;\n",
              "      border: none;\n",
              "      border-radius: 50%;\n",
              "      cursor: pointer;\n",
              "      display: none;\n",
              "      fill: #1967D2;\n",
              "      height: 32px;\n",
              "      padding: 0 0 0 0;\n",
              "      width: 32px;\n",
              "    }\n",
              "\n",
              "    .colab-df-convert:hover {\n",
              "      background-color: #E2EBFA;\n",
              "      box-shadow: 0px 1px 2px rgba(60, 64, 67, 0.3), 0px 1px 3px 1px rgba(60, 64, 67, 0.15);\n",
              "      fill: #174EA6;\n",
              "    }\n",
              "\n",
              "    [theme=dark] .colab-df-convert {\n",
              "      background-color: #3B4455;\n",
              "      fill: #D2E3FC;\n",
              "    }\n",
              "\n",
              "    [theme=dark] .colab-df-convert:hover {\n",
              "      background-color: #434B5C;\n",
              "      box-shadow: 0px 1px 3px 1px rgba(0, 0, 0, 0.15);\n",
              "      filter: drop-shadow(0px 1px 2px rgba(0, 0, 0, 0.3));\n",
              "      fill: #FFFFFF;\n",
              "    }\n",
              "  </style>\n",
              "\n",
              "      <script>\n",
              "        const buttonEl =\n",
              "          document.querySelector('#df-e708ef8b-e129-4b09-9be1-9869c28cc23c button.colab-df-convert');\n",
              "        buttonEl.style.display =\n",
              "          google.colab.kernel.accessAllowed ? 'block' : 'none';\n",
              "\n",
              "        async function convertToInteractive(key) {\n",
              "          const element = document.querySelector('#df-e708ef8b-e129-4b09-9be1-9869c28cc23c');\n",
              "          const dataTable =\n",
              "            await google.colab.kernel.invokeFunction('convertToInteractive',\n",
              "                                                     [key], {});\n",
              "          if (!dataTable) return;\n",
              "\n",
              "          const docLinkHtml = 'Like what you see? Visit the ' +\n",
              "            '<a target=\"_blank\" href=https://colab.research.google.com/notebooks/data_table.ipynb>data table notebook</a>'\n",
              "            + ' to learn more about interactive tables.';\n",
              "          element.innerHTML = '';\n",
              "          dataTable['output_type'] = 'display_data';\n",
              "          await google.colab.output.renderOutput(dataTable, element);\n",
              "          const docLink = document.createElement('div');\n",
              "          docLink.innerHTML = docLinkHtml;\n",
              "          element.appendChild(docLink);\n",
              "        }\n",
              "      </script>\n",
              "    </div>\n",
              "  </div>\n",
              "  "
            ]
          },
          "metadata": {},
          "execution_count": 11
        }
      ]
    },
    {
      "cell_type": "code",
      "source": [
        "# Define Utility Functions\n",
        "modelScore = {}\n",
        "\n",
        "def mv_visualize_results(modelName, y_test, y_pred):\n",
        "  act = []\n",
        "  pred = []\n",
        "  for i in range(len(y_test)):\n",
        "    act.append(y_test[i].mean()) # Average of 7 day timewindow\n",
        "    pred.append(y_pred[i].mean())\n",
        "  fig,ax = plt.subplots(figsize=(20,8))\n",
        "  plt.plot(act,color='green')\n",
        "  plt.plot(pred,color='red')\n",
        "  plt.xlabel('Date')\n",
        "  plt.ylabel('Runtime')\n",
        "  plt.title(modelName+': Actual vs. Predicted Runtime')\n",
        "  plt.legend(['Actual', 'Predicted'])\n",
        "  ax.tick_params(axis='x', colors='white')\n",
        "  ax.tick_params(labelbottom=False)   \n",
        "  plt.show()\n",
        "\n",
        "def mv_find_rmse(actual, predictions):\n",
        "  act = []\n",
        "  pred = []\n",
        "  for i in range(len(actual)):\n",
        "    act.append(actual[i].mean())\n",
        "    pred.append(predictions[i].mean())\n",
        "  return np.round(np.sqrt(((np.array(act)-np.array(pred))**2).mean()),3)\n",
        "\n",
        "def multivariate_time_window_3d(timeSeries, timeSteps, futureSteps):\n",
        "  '''\n",
        "  Featurizes multi variate time series into previous timeSteps \n",
        "  Returns a 3 dim X input. \n",
        "  '''\n",
        "  X = []\n",
        "  y = []\n",
        "  for i in range(len(timeSeries)):\n",
        "    if i+timesteps+futureSteps > len(timeSeries):\n",
        "      break\n",
        "    X.append(timeSeries[i:i+timeSteps])\n",
        "    y_l = []\n",
        "    for j in range(i+timesteps, i+timesteps+futureSteps):\n",
        "      y_l.append(timeSeries[j][0])\n",
        "    y.append(y_l)\n",
        "  X = np.array(X)\n",
        "  y = np.array(y)\n",
        "  return X,y\n",
        "\n",
        "def multivariate_time_window_2d(timeSeries, timeSteps, futureSteps):\n",
        "  '''\n",
        "  Featurizes time series into previous timeSteps \n",
        "  Returns a 2 dim X input. \n",
        "  '''\n",
        "  X = []\n",
        "  y = []\n",
        "  for i in range(len(timeSeries)):\n",
        "    if i+timesteps+futureSteps > len(timeSeries):\n",
        "      break\n",
        "    X_l=[]\n",
        "    for k in range(i, i+timeSteps):\n",
        "      for f in range(3):\n",
        "        X_l.append(timeSeries[k][f])    \n",
        "    X.append(X_l)\n",
        "    y_l = []\n",
        "    for j in range(i+timesteps, i+timesteps+futureSteps):\n",
        "      y_l.append(timeSeries[j][0])\n",
        "    y.append(y_l)\n",
        "  X = np.array(X)\n",
        "  y = np.array(y)\n",
        "  return X,y\n",
        "\n",
        "def save_model(model,model_name):\n",
        "  model_json = model.to_json()\n",
        "  with open(dirPath+\"/gdrive/My Drive/casestudy/model_save/\"+model_name+\".json\", \"w\") as jsonfile:\n",
        "    jsonfile.write(model_json)"
      ],
      "metadata": {
        "id": "ATg4VvJ3DJTl"
      },
      "execution_count": null,
      "outputs": []
    },
    {
      "cell_type": "code",
      "source": [
        "# Train Test Split\n",
        "size = int(len(dfmul) * 0.75)\n",
        "timesteps = 5 # Tuned value. Use past five days runtimes to predict one step in the future.\n",
        "train = dfmul.values[0:size]\n",
        "test = dfmul.values[size:]"
      ],
      "metadata": {
        "id": "4GLyGngTwIjP"
      },
      "execution_count": null,
      "outputs": []
    },
    {
      "cell_type": "code",
      "source": [
        "X_train, y_train = multivariate_time_window_2d(train, timeSteps=5, futureSteps=7)\n",
        "X_test, y_test = multivariate_time_window_2d(test, timeSteps=5, futureSteps=7)"
      ],
      "metadata": {
        "id": "si1w4kH6BKUg"
      },
      "execution_count": null,
      "outputs": []
    },
    {
      "cell_type": "code",
      "source": [
        "# normalize the data\n",
        "scaler = StandardScaler()\n",
        "X_train_sc = scaler.fit_transform(X_train)\n",
        "X_test_sc = scaler.transform(X_test)"
      ],
      "metadata": {
        "id": "p6lvDLpdwImF"
      },
      "execution_count": null,
      "outputs": []
    },
    {
      "cell_type": "markdown",
      "source": [
        "###Show case the featurization:"
      ],
      "metadata": {
        "id": "2OP9GHUaWMDM"
      }
    },
    {
      "cell_type": "markdown",
      "source": [
        "Below is the validation part of the dataset - as an example."
      ],
      "metadata": {
        "id": "xxlEyBfjWdip"
      }
    },
    {
      "cell_type": "code",
      "source": [
        "test[:10]"
      ],
      "metadata": {
        "colab": {
          "base_uri": "https://localhost:8080/"
        },
        "id": "6cHJHXxSWR8u",
        "outputId": "f063ef88-6f98-4c63-d1bb-f69e64bb5a9a"
      },
      "execution_count": null,
      "outputs": [
        {
          "output_type": "execute_result",
          "data": {
            "text/plain": [
              "array([[  47.37706194, 3044.        ,  114.        ],\n",
              "       [  31.09579806, 2388.        ,   78.        ],\n",
              "       [  27.92684583, 2295.        ,   80.        ],\n",
              "       [  61.29126861, 3345.        ,  110.        ],\n",
              "       [  42.52006417, 3488.        ,  123.        ],\n",
              "       [  40.836535  , 3279.        ,  125.        ],\n",
              "       [  40.02727694, 2940.        ,  111.        ],\n",
              "       [  32.16934806, 1988.        ,  114.        ],\n",
              "       [  19.31702722, 1154.        ,   78.        ],\n",
              "       [  25.61333167, 2248.        ,   80.        ]])"
            ]
          },
          "metadata": {},
          "execution_count": 16
        }
      ]
    },
    {
      "cell_type": "code",
      "source": [
        "Xdash, ydash = multivariate_time_window_2d(test, timeSteps=5, futureSteps=7)\n",
        "print(Xdash)\n",
        "print(ydash)"
      ],
      "metadata": {
        "colab": {
          "base_uri": "https://localhost:8080/"
        },
        "id": "wlQzEIFmWSHr",
        "outputId": "e1ae9c17-d79b-41aa-be4b-d8b5e1633431"
      },
      "execution_count": null,
      "outputs": [
        {
          "output_type": "stream",
          "name": "stdout",
          "text": [
            "[[  47.37706194 3044.          114.         ...   42.52006417\n",
            "  3488.          123.        ]\n",
            " [  31.09579806 2388.           78.         ...   40.836535\n",
            "  3279.          125.        ]\n",
            " [  27.92684583 2295.           80.         ...   40.02727694\n",
            "  2940.          111.        ]\n",
            " ...\n",
            " [  46.39424556 3046.           97.         ...   30.8506675\n",
            "  1714.           81.        ]\n",
            " [  23.75942028  841.           73.         ...   10.71905472\n",
            "   391.           75.        ]\n",
            " [  45.64140861 3734.           85.         ...    9.49921889\n",
            "   348.           69.        ]]\n",
            "[[40.836535   40.02727694 32.16934806 ... 25.61333167 38.93397417\n",
            "  39.63513722]\n",
            " [40.02727694 32.16934806 19.31702722 ... 38.93397417 39.63513722\n",
            "  30.43722694]\n",
            " [32.16934806 19.31702722 25.61333167 ... 39.63513722 30.43722694\n",
            "  33.40087   ]\n",
            " ...\n",
            " [10.71905472  9.49921889 10.12469806 ... 10.93453139 14.06737944\n",
            "  17.89107667]\n",
            " [ 9.49921889 10.12469806 10.84929889 ... 14.06737944 17.89107667\n",
            "  17.84089028]\n",
            " [10.12469806 10.84929889 10.93453139 ... 17.89107667 17.84089028\n",
            "   7.63939889]]\n"
          ]
        }
      ]
    },
    {
      "cell_type": "code",
      "source": [
        "print(Xdash.shape)\n",
        "print(ydash.shape)"
      ],
      "metadata": {
        "colab": {
          "base_uri": "https://localhost:8080/"
        },
        "id": "lquTiomxWtwj",
        "outputId": "c1d22ad4-131d-4877-c40d-0d4b309ba04d"
      },
      "execution_count": null,
      "outputs": [
        {
          "output_type": "stream",
          "name": "stdout",
          "text": [
            "(177, 15)\n",
            "(177, 7)\n"
          ]
        }
      ]
    },
    {
      "cell_type": "markdown",
      "source": [
        "As we can see above, the multivariate_time_window_2d function, featurises the validation dataset into 15 features - ie. 3 features(runtime, pass, exec_count) for each of the 5 time steps in the past. - in a 2d Matrix - for use by Regression Models.\n",
        "\n",
        "And the to predict value ydash is actually a vector with 7 dimensions, each dimension is a day in the future to predict - multistep in a single prediction."
      ],
      "metadata": {
        "id": "NPSZ_XyaWzNj"
      }
    },
    {
      "cell_type": "code",
      "source": [
        "Xdash, ydash = multivariate_time_window_3d(test, timeSteps=5, futureSteps=7)\n",
        "print(Xdash)\n",
        "print(ydash)"
      ],
      "metadata": {
        "colab": {
          "base_uri": "https://localhost:8080/"
        },
        "id": "0bDZnymfXXDL",
        "outputId": "7e9023d5-3e33-4498-b81b-24d8e2355d03"
      },
      "execution_count": null,
      "outputs": [
        {
          "output_type": "stream",
          "name": "stdout",
          "text": [
            "[[[  47.37706194 3044.          114.        ]\n",
            "  [  31.09579806 2388.           78.        ]\n",
            "  [  27.92684583 2295.           80.        ]\n",
            "  [  61.29126861 3345.          110.        ]\n",
            "  [  42.52006417 3488.          123.        ]]\n",
            "\n",
            " [[  31.09579806 2388.           78.        ]\n",
            "  [  27.92684583 2295.           80.        ]\n",
            "  [  61.29126861 3345.          110.        ]\n",
            "  [  42.52006417 3488.          123.        ]\n",
            "  [  40.836535   3279.          125.        ]]\n",
            "\n",
            " [[  27.92684583 2295.           80.        ]\n",
            "  [  61.29126861 3345.          110.        ]\n",
            "  [  42.52006417 3488.          123.        ]\n",
            "  [  40.836535   3279.          125.        ]\n",
            "  [  40.02727694 2940.          111.        ]]\n",
            "\n",
            " ...\n",
            "\n",
            " [[  46.39424556 3046.           97.        ]\n",
            "  [  23.75942028  841.           73.        ]\n",
            "  [  45.64140861 3734.           85.        ]\n",
            "  [  30.28730361 1289.           83.        ]\n",
            "  [  30.8506675  1714.           81.        ]]\n",
            "\n",
            " [[  23.75942028  841.           73.        ]\n",
            "  [  45.64140861 3734.           85.        ]\n",
            "  [  30.28730361 1289.           83.        ]\n",
            "  [  30.8506675  1714.           81.        ]\n",
            "  [  10.71905472  391.           75.        ]]\n",
            "\n",
            " [[  45.64140861 3734.           85.        ]\n",
            "  [  30.28730361 1289.           83.        ]\n",
            "  [  30.8506675  1714.           81.        ]\n",
            "  [  10.71905472  391.           75.        ]\n",
            "  [   9.49921889  348.           69.        ]]]\n",
            "[[40.836535   40.02727694 32.16934806 ... 25.61333167 38.93397417\n",
            "  39.63513722]\n",
            " [40.02727694 32.16934806 19.31702722 ... 38.93397417 39.63513722\n",
            "  30.43722694]\n",
            " [32.16934806 19.31702722 25.61333167 ... 39.63513722 30.43722694\n",
            "  33.40087   ]\n",
            " ...\n",
            " [10.71905472  9.49921889 10.12469806 ... 10.93453139 14.06737944\n",
            "  17.89107667]\n",
            " [ 9.49921889 10.12469806 10.84929889 ... 14.06737944 17.89107667\n",
            "  17.84089028]\n",
            " [10.12469806 10.84929889 10.93453139 ... 17.89107667 17.84089028\n",
            "   7.63939889]]\n"
          ]
        }
      ]
    },
    {
      "cell_type": "code",
      "source": [
        "print(Xdash.shape)\n",
        "print(ydash.shape)"
      ],
      "metadata": {
        "colab": {
          "base_uri": "https://localhost:8080/"
        },
        "id": "EYAPi3YDXXJ6",
        "outputId": "168d6630-69d4-4cc7-8e93-9f1146de9bed"
      },
      "execution_count": null,
      "outputs": [
        {
          "output_type": "stream",
          "name": "stdout",
          "text": [
            "(177, 5, 3)\n",
            "(177, 7)\n"
          ]
        }
      ]
    },
    {
      "cell_type": "markdown",
      "source": [
        "Here we can see similar results as with the above 2d function, just that in this case of multivariate_time_window_3d - each timestep in the past is a vector of 3 dimensions - for the 3 features. So each row is a 5 dimensional vector of 3 dimensional vectors - for use my deep learning models."
      ],
      "metadata": {
        "id": "zZ0DOPUJXb2D"
      }
    },
    {
      "cell_type": "markdown",
      "metadata": {
        "id": "1mlvylQRHQEb"
      },
      "source": [
        "### Linear Regression"
      ]
    },
    {
      "cell_type": "code",
      "execution_count": null,
      "metadata": {
        "id": "xN14zHgqHQEc"
      },
      "outputs": [],
      "source": [
        "modelName = 'Linear Regression'\n",
        "model = LinearRegression()\n",
        "model.fit(X_train_sc, y_train)\n",
        "y_pred = []\n",
        "y_pred = model.predict(X_test_sc)"
      ]
    },
    {
      "cell_type": "code",
      "execution_count": null,
      "metadata": {
        "colab": {
          "base_uri": "https://localhost:8080/"
        },
        "outputId": "3f61d3cb-a5c9-48b0-bf69-98b83731bac7",
        "id": "G5P4lYpVHQEc"
      },
      "outputs": [
        {
          "output_type": "stream",
          "name": "stdout",
          "text": [
            "RMSE score: 7.809\n"
          ]
        },
        {
          "output_type": "display_data",
          "data": {
            "text/plain": [
              "<Figure size 1440x576 with 1 Axes>"
            ],
            "image/png": "[encoded data removed]"
          },
          "metadata": {
            "needs_background": "light"
          }
        }
      ],
      "source": [
        "score = mv_find_rmse(y_test,y_pred)\n",
        "print(\"RMSE score:\",score)\n",
        "mv_visualize_results(modelName, y_test, y_pred)\n",
        "modelScore[modelName] = score"
      ]
    },
    {
      "cell_type": "markdown",
      "metadata": {
        "id": "JDxHdsrxYI7D"
      },
      "source": [
        "### Random Forest"
      ]
    },
    {
      "cell_type": "code",
      "execution_count": null,
      "metadata": {
        "colab": {
          "base_uri": "https://localhost:8080/"
        },
        "outputId": "466cb72a-ed8e-4149-b1ee-4827c1c22a11",
        "id": "HXclYTodYI7D"
      },
      "outputs": [
        {
          "output_type": "stream",
          "name": "stdout",
          "text": [
            "Fitting 5 folds for each of 500 candidates, totalling 2500 fits\n",
            "Best Parameters:  {'max_depth': 5, 'min_samples_leaf': 10, 'min_samples_split': 2, 'n_estimators': 100}\n"
          ]
        }
      ],
      "source": [
        "# Tune Hyper parameters\n",
        "regressor = RandomForestRegressor(random_state=101)\n",
        "parameters = {'n_estimators':[5,10,50 ,100],'max_depth':[1, 5, 10, 50, None], 'min_samples_split':[2, 5, 10, 100, 500], 'min_samples_leaf':[1, 5, 10, 100, 500]}\n",
        "grid_cv = GridSearchCV(regressor, parameters, cv=5, scoring='neg_root_mean_squared_error', return_train_score=True, verbose=10, n_jobs=-1)\n",
        "grid_cv.fit(X_train_sc,y_train)\n",
        "print('Best Parameters: ', grid_cv.best_params_)\n",
        "bestmin_samples_splitrf = grid_cv.best_params_['min_samples_split']\n",
        "bestn_estimatorsrf = grid_cv.best_params_['n_estimators']\n",
        "bestmax_depthrf = grid_cv.best_params_['max_depth']\n",
        "bestmin_samples_leafrf = grid_cv.best_params_['min_samples_leaf']"
      ]
    },
    {
      "cell_type": "code",
      "execution_count": null,
      "metadata": {
        "id": "obuPyUHBYI7E"
      },
      "outputs": [],
      "source": [
        "modelName = 'Random Forest'\n",
        "modelrf = RandomForestRegressor(n_estimators = bestn_estimatorsrf, min_samples_split = bestmin_samples_splitrf ,max_depth  = bestmax_depthrf, min_samples_leaf  =bestmin_samples_leafrf , random_state=101)\n",
        "modelrf.fit(X_train_sc, y_train)\n",
        "y_pred = []\n",
        "y_pred = modelrf.predict(X_test_sc)"
      ]
    },
    {
      "cell_type": "code",
      "execution_count": null,
      "metadata": {
        "colab": {
          "base_uri": "https://localhost:8080/",
          "height": 514
        },
        "outputId": "d0fe95d1-9206-4017-a8f6-763be05ef94b",
        "id": "9h-uFeiXYI7E"
      },
      "outputs": [
        {
          "output_type": "stream",
          "name": "stdout",
          "text": [
            "RMSE score: 7.07\n"
          ]
        },
        {
          "output_type": "display_data",
          "data": {
            "text/plain": [
              "<Figure size 1440x576 with 1 Axes>"
            ],
            "image/png": "[encoded data removed]"
          },
          "metadata": {
            "needs_background": "light"
          }
        }
      ],
      "source": [
        "score = mv_find_rmse(y_test,y_pred)\n",
        "print(\"RMSE score:\",score)\n",
        "mv_visualize_results(modelName, y_test, y_pred)\n",
        "modelScore[modelName] = score"
      ]
    },
    {
      "cell_type": "code",
      "execution_count": null,
      "metadata": {
        "id": "ca1Tn9kVYI7E"
      },
      "outputs": [],
      "source": [
        "# save the model to disk\n",
        "filename = dirPath+\"/gdrive/My Drive/casestudy/model_save/rfmul.sav\"\n",
        "pickle.dump(modelrf, open(filename, 'wb'))"
      ]
    },
    {
      "cell_type": "markdown",
      "source": [
        "There is very significant improvement in the results when features like 'pass' and 'exec_count' are added to the training data.\n",
        "\n",
        "We see that Random Forest has performed better than Linear Regression here."
      ],
      "metadata": {
        "id": "Y-SVenPNg5CP"
      }
    },
    {
      "cell_type": "markdown",
      "source": [
        "### GRU Deep Learning Network"
      ],
      "metadata": {
        "id": "TPE3WM4y8gLU"
      }
    },
    {
      "cell_type": "markdown",
      "source": [
        "We will define a stacked GRU network to train the multivariate dataset."
      ],
      "metadata": {
        "id": "4FgT9K3o8kC6"
      }
    },
    {
      "cell_type": "code",
      "source": [
        "X_train, y_train = multivariate_time_window_3d(train, timeSteps=5, futureSteps=7)\n",
        "X_test, y_test = multivariate_time_window_3d(test, timeSteps=5, futureSteps=7)"
      ],
      "metadata": {
        "id": "NTRwvbazjIpQ"
      },
      "execution_count": null,
      "outputs": []
    },
    {
      "cell_type": "code",
      "source": [
        "# normalize the data\n",
        "scaler = StandardScaler()\n",
        "X_train_sc_lst = []\n",
        "for i in range(len(X_train)):\n",
        "  X_train_sc_lst.append(scaler.fit_transform(X_train[i]))\n",
        "X_train_sc = np.array(X_train_sc_lst)\n",
        "\n",
        "X_test_sc_lst = []\n",
        "for i in range(len(X_test)):\n",
        "  X_test_sc_lst.append(scaler.transform(X_test[i]))\n",
        "X_test_sc = np.array(X_test_sc_lst)"
      ],
      "metadata": {
        "id": "y9FZsu1cjvB-"
      },
      "execution_count": null,
      "outputs": []
    },
    {
      "cell_type": "code",
      "execution_count": null,
      "metadata": {
        "id": "5SboMb8nhmkY"
      },
      "outputs": [],
      "source": [
        "def define_model():\n",
        "  n_features = 3\n",
        "  timeSteps = 5\n",
        "  modeldl = Sequential()\n",
        "  modeldl.add(GRU(64, activation='relu', return_sequences=True, input_shape=(timesteps, n_features)))\n",
        "  modeldl.add(GRU(16, activation='relu', return_sequences=True))\n",
        "  modeldl.add(GRU(8, activation='relu'))\n",
        "  modeldl.add(Dense(1))\n",
        "  modeldl.compile(optimizer='adam', loss='mse', metrics=[tf.keras.metrics.RootMeanSquaredError()])\n",
        "  return modeldl"
      ]
    },
    {
      "cell_type": "code",
      "execution_count": null,
      "metadata": {
        "id": "l4_WYUQ3hmkZ"
      },
      "outputs": [],
      "source": [
        "checkpoint = ModelCheckpoint(filepath=dirPath+\"/gdrive/My Drive/casestudy/model_save/model_mul.hdf5\", monitor= 'val_root_mean_squared_error', verbose=1, save_best_only=True, mode='min')\n",
        "earlystop = EarlyStopping(monitor='val_root_mean_squared_error', patience=10, verbose=1, mode='min')\n",
        "modelName = 'GRU_mul'\n",
        "# Model Definition\n",
        "modeldl = define_model()"
      ]
    },
    {
      "cell_type": "code",
      "execution_count": null,
      "metadata": {
        "colab": {
          "base_uri": "https://localhost:8080/"
        },
        "outputId": "438948b9-e32f-44aa-8176-91b2955b52fe",
        "id": "iFPXwyQlhmkZ"
      },
      "outputs": [
        {
          "output_type": "stream",
          "name": "stdout",
          "text": [
            "Model: \"sequential\"\n",
            "_________________________________________________________________\n",
            " Layer (type)                Output Shape              Param #   \n",
            "=================================================================\n",
            " gru (GRU)                   (None, 5, 64)             13248     \n",
            "                                                                 \n",
            " gru_1 (GRU)                 (None, 5, 16)             3936      \n",
            "                                                                 \n",
            " gru_2 (GRU)                 (None, 8)                 624       \n",
            "                                                                 \n",
            " dense (Dense)               (None, 1)                 9         \n",
            "                                                                 \n",
            "=================================================================\n",
            "Total params: 17,817\n",
            "Trainable params: 17,817\n",
            "Non-trainable params: 0\n",
            "_________________________________________________________________\n"
          ]
        }
      ],
      "source": [
        "modeldl.summary()"
      ]
    },
    {
      "cell_type": "code",
      "execution_count": null,
      "metadata": {
        "id": "ZOtdea-MhmkZ",
        "colab": {
          "base_uri": "https://localhost:8080/",
          "height": 533
        },
        "outputId": "59235be1-ed49-4bc3-a62a-8bd7f6b06fc9"
      },
      "outputs": [
        {
          "output_type": "execute_result",
          "data": {
            "image/png": "[encoded data removed]",
            "text/plain": [
              "<IPython.core.display.Image object>"
            ]
          },
          "metadata": {},
          "execution_count": 32
        }
      ],
      "source": [
        "tf.keras.utils.plot_model(modeldl, to_file=dirPath+'/gdrive/My Drive/casestudy/'+modelName+'.png', show_shapes=True)"
      ]
    },
    {
      "cell_type": "code",
      "execution_count": null,
      "metadata": {
        "id": "b96XFAfPhmka"
      },
      "outputs": [],
      "source": [
        "# Save the model definition\n",
        "save_model(modeldl,modelName)"
      ]
    },
    {
      "cell_type": "code",
      "execution_count": null,
      "metadata": {
        "colab": {
          "base_uri": "https://localhost:8080/"
        },
        "outputId": "c03dfcbf-7e88-4183-f84f-83f4cd968128",
        "id": "RwlIudJ0hmka"
      },
      "outputs": [
        {
          "output_type": "stream",
          "name": "stdout",
          "text": [
            "Epoch 1/300\n",
            "16/18 [=========================>....] - ETA: 0s - loss: 685.6204 - root_mean_squared_error: 26.1844\n",
            "Epoch 1: val_root_mean_squared_error improved from inf to 32.35349, saving model to /content/gdrive/My Drive/casestudy/model_save/model_mul.hdf5\n",
            "18/18 [==============================] - 6s 70ms/step - loss: 676.6729 - root_mean_squared_error: 26.0129 - val_loss: 1046.7480 - val_root_mean_squared_error: 32.3535\n",
            "Epoch 2/300\n",
            "18/18 [==============================] - ETA: 0s - loss: 657.7474 - root_mean_squared_error: 25.6466\n",
            "Epoch 2: val_root_mean_squared_error improved from 32.35349 to 31.29757, saving model to /content/gdrive/My Drive/casestudy/model_save/model_mul.hdf5\n",
            "18/18 [==============================] - 0s 20ms/step - loss: 657.7474 - root_mean_squared_error: 25.6466 - val_loss: 979.5378 - val_root_mean_squared_error: 31.2976\n",
            "Epoch 3/300\n",
            "15/18 [========================>.....] - ETA: 0s - loss: 537.3992 - root_mean_squared_error: 23.1819\n",
            "Epoch 3: val_root_mean_squared_error improved from 31.29757 to 23.14880, saving model to /content/gdrive/My Drive/casestudy/model_save/model_mul.hdf5\n",
            "18/18 [==============================] - 0s 18ms/step - loss: 502.8337 - root_mean_squared_error: 22.4240 - val_loss: 535.8669 - val_root_mean_squared_error: 23.1488\n",
            "Epoch 4/300\n",
            "14/18 [======================>.......] - ETA: 0s - loss: 279.8343 - root_mean_squared_error: 16.7282\n",
            "Epoch 4: val_root_mean_squared_error improved from 23.14880 to 18.62247, saving model to /content/gdrive/My Drive/casestudy/model_save/model_mul.hdf5\n",
            "18/18 [==============================] - 0s 18ms/step - loss: 281.2181 - root_mean_squared_error: 16.7696 - val_loss: 346.7964 - val_root_mean_squared_error: 18.6225\n",
            "Epoch 5/300\n",
            "17/18 [===========================>..] - ETA: 0s - loss: 251.9143 - root_mean_squared_error: 15.8718\n",
            "Epoch 5: val_root_mean_squared_error improved from 18.62247 to 16.71160, saving model to /content/gdrive/My Drive/casestudy/model_save/model_mul.hdf5\n",
            "18/18 [==============================] - 0s 19ms/step - loss: 253.9702 - root_mean_squared_error: 15.9364 - val_loss: 279.2774 - val_root_mean_squared_error: 16.7116\n",
            "Epoch 6/300\n",
            "15/18 [========================>.....] - ETA: 0s - loss: 239.8024 - root_mean_squared_error: 15.4856\n",
            "Epoch 6: val_root_mean_squared_error improved from 16.71160 to 15.48442, saving model to /content/gdrive/My Drive/casestudy/model_save/model_mul.hdf5\n",
            "18/18 [==============================] - 0s 18ms/step - loss: 237.3171 - root_mean_squared_error: 15.4051 - val_loss: 239.7673 - val_root_mean_squared_error: 15.4844\n",
            "Epoch 7/300\n",
            "14/18 [======================>.......] - ETA: 0s - loss: 228.9623 - root_mean_squared_error: 15.1315\n",
            "Epoch 7: val_root_mean_squared_error improved from 15.48442 to 15.27296, saving model to /content/gdrive/My Drive/casestudy/model_save/model_mul.hdf5\n",
            "18/18 [==============================] - 0s 19ms/step - loss: 229.4736 - root_mean_squared_error: 15.1484 - val_loss: 233.2632 - val_root_mean_squared_error: 15.2730\n",
            "Epoch 8/300\n",
            "15/18 [========================>.....] - ETA: 0s - loss: 226.0609 - root_mean_squared_error: 15.0353\n",
            "Epoch 8: val_root_mean_squared_error improved from 15.27296 to 14.51610, saving model to /content/gdrive/My Drive/casestudy/model_save/model_mul.hdf5\n",
            "18/18 [==============================] - 0s 21ms/step - loss: 226.7059 - root_mean_squared_error: 15.0568 - val_loss: 210.7171 - val_root_mean_squared_error: 14.5161\n",
            "Epoch 9/300\n",
            "15/18 [========================>.....] - ETA: 0s - loss: 225.4431 - root_mean_squared_error: 15.0148\n",
            "Epoch 9: val_root_mean_squared_error improved from 14.51610 to 14.07947, saving model to /content/gdrive/My Drive/casestudy/model_save/model_mul.hdf5\n",
            "18/18 [==============================] - 0s 18ms/step - loss: 226.8277 - root_mean_squared_error: 15.0608 - val_loss: 198.2314 - val_root_mean_squared_error: 14.0795\n",
            "Epoch 10/300\n",
            "14/18 [======================>.......] - ETA: 0s - loss: 235.2787 - root_mean_squared_error: 15.3388\n",
            "Epoch 10: val_root_mean_squared_error did not improve from 14.07947\n",
            "18/18 [==============================] - 0s 16ms/step - loss: 226.2693 - root_mean_squared_error: 15.0423 - val_loss: 201.9732 - val_root_mean_squared_error: 14.2117\n",
            "Epoch 11/300\n",
            "18/18 [==============================] - ETA: 0s - loss: 224.9537 - root_mean_squared_error: 14.9985\n",
            "Epoch 11: val_root_mean_squared_error did not improve from 14.07947\n",
            "18/18 [==============================] - 0s 16ms/step - loss: 224.9537 - root_mean_squared_error: 14.9985 - val_loss: 206.1637 - val_root_mean_squared_error: 14.3584\n",
            "Epoch 12/300\n",
            "16/18 [=========================>....] - ETA: 0s - loss: 222.0902 - root_mean_squared_error: 14.9027\n",
            "Epoch 12: val_root_mean_squared_error did not improve from 14.07947\n",
            "18/18 [==============================] - 0s 13ms/step - loss: 221.6922 - root_mean_squared_error: 14.8893 - val_loss: 204.6194 - val_root_mean_squared_error: 14.3045\n",
            "Epoch 13/300\n",
            "15/18 [========================>.....] - ETA: 0s - loss: 226.2130 - root_mean_squared_error: 15.0404\n",
            "Epoch 13: val_root_mean_squared_error improved from 14.07947 to 13.86951, saving model to /content/gdrive/My Drive/casestudy/model_save/model_mul.hdf5\n",
            "18/18 [==============================] - 0s 17ms/step - loss: 221.7442 - root_mean_squared_error: 14.8911 - val_loss: 192.3634 - val_root_mean_squared_error: 13.8695\n",
            "Epoch 14/300\n",
            "16/18 [=========================>....] - ETA: 0s - loss: 223.0642 - root_mean_squared_error: 14.9353\n",
            "Epoch 14: val_root_mean_squared_error did not improve from 13.86951\n",
            "18/18 [==============================] - 0s 13ms/step - loss: 220.1392 - root_mean_squared_error: 14.8371 - val_loss: 210.7074 - val_root_mean_squared_error: 14.5158\n",
            "Epoch 15/300\n",
            "15/18 [========================>.....] - ETA: 0s - loss: 218.4529 - root_mean_squared_error: 14.7802\n",
            "Epoch 15: val_root_mean_squared_error did not improve from 13.86951\n",
            "18/18 [==============================] - 0s 15ms/step - loss: 221.2717 - root_mean_squared_error: 14.8752 - val_loss: 205.7311 - val_root_mean_squared_error: 14.3433\n",
            "Epoch 16/300\n",
            "14/18 [======================>.......] - ETA: 0s - loss: 222.7944 - root_mean_squared_error: 14.9263\n",
            "Epoch 16: val_root_mean_squared_error improved from 13.86951 to 13.85239, saving model to /content/gdrive/My Drive/casestudy/model_save/model_mul.hdf5\n",
            "18/18 [==============================] - 0s 20ms/step - loss: 220.5071 - root_mean_squared_error: 14.8495 - val_loss: 191.8887 - val_root_mean_squared_error: 13.8524\n",
            "Epoch 17/300\n",
            "18/18 [==============================] - ETA: 0s - loss: 219.4341 - root_mean_squared_error: 14.8133\n",
            "Epoch 17: val_root_mean_squared_error did not improve from 13.85239\n",
            "18/18 [==============================] - 0s 16ms/step - loss: 219.4341 - root_mean_squared_error: 14.8133 - val_loss: 201.9701 - val_root_mean_squared_error: 14.2116\n",
            "Epoch 18/300\n",
            "15/18 [========================>.....] - ETA: 0s - loss: 216.5908 - root_mean_squared_error: 14.7170\n",
            "Epoch 18: val_root_mean_squared_error improved from 13.85239 to 13.83948, saving model to /content/gdrive/My Drive/casestudy/model_save/model_mul.hdf5\n",
            "18/18 [==============================] - 0s 20ms/step - loss: 219.6040 - root_mean_squared_error: 14.8190 - val_loss: 191.5312 - val_root_mean_squared_error: 13.8395\n",
            "Epoch 19/300\n",
            "16/18 [=========================>....] - ETA: 0s - loss: 220.1072 - root_mean_squared_error: 14.8360\n",
            "Epoch 19: val_root_mean_squared_error did not improve from 13.83948\n",
            "18/18 [==============================] - 0s 13ms/step - loss: 218.4006 - root_mean_squared_error: 14.7784 - val_loss: 195.5322 - val_root_mean_squared_error: 13.9833\n",
            "Epoch 20/300\n",
            "15/18 [========================>.....] - ETA: 0s - loss: 214.7796 - root_mean_squared_error: 14.6554\n",
            "Epoch 20: val_root_mean_squared_error did not improve from 13.83948\n",
            "18/18 [==============================] - 0s 14ms/step - loss: 217.8966 - root_mean_squared_error: 14.7613 - val_loss: 200.2404 - val_root_mean_squared_error: 14.1506\n",
            "Epoch 21/300\n",
            "15/18 [========================>.....] - ETA: 0s - loss: 216.2311 - root_mean_squared_error: 14.7048\n",
            "Epoch 21: val_root_mean_squared_error did not improve from 13.83948\n",
            "18/18 [==============================] - 0s 14ms/step - loss: 217.2749 - root_mean_squared_error: 14.7402 - val_loss: 197.1646 - val_root_mean_squared_error: 14.0415\n",
            "Epoch 22/300\n",
            "16/18 [=========================>....] - ETA: 0s - loss: 218.6828 - root_mean_squared_error: 14.7879\n",
            "Epoch 22: val_root_mean_squared_error did not improve from 13.83948\n",
            "18/18 [==============================] - 0s 14ms/step - loss: 217.0193 - root_mean_squared_error: 14.7316 - val_loss: 200.8050 - val_root_mean_squared_error: 14.1706\n",
            "Epoch 23/300\n",
            "16/18 [=========================>....] - ETA: 0s - loss: 218.3677 - root_mean_squared_error: 14.7773\n",
            "Epoch 23: val_root_mean_squared_error did not improve from 13.83948\n",
            "18/18 [==============================] - 0s 13ms/step - loss: 216.9313 - root_mean_squared_error: 14.7286 - val_loss: 200.1769 - val_root_mean_squared_error: 14.1484\n",
            "Epoch 24/300\n",
            "16/18 [=========================>....] - ETA: 0s - loss: 217.7293 - root_mean_squared_error: 14.7557\n",
            "Epoch 24: val_root_mean_squared_error did not improve from 13.83948\n",
            "18/18 [==============================] - 0s 14ms/step - loss: 216.1737 - root_mean_squared_error: 14.7028 - val_loss: 201.9495 - val_root_mean_squared_error: 14.2109\n",
            "Epoch 25/300\n",
            "17/18 [===========================>..] - ETA: 0s - loss: 217.0123 - root_mean_squared_error: 14.7313\n",
            "Epoch 25: val_root_mean_squared_error did not improve from 13.83948\n",
            "18/18 [==============================] - 0s 13ms/step - loss: 216.7616 - root_mean_squared_error: 14.7228 - val_loss: 210.7511 - val_root_mean_squared_error: 14.5173\n",
            "Epoch 26/300\n",
            "16/18 [=========================>....] - ETA: 0s - loss: 220.3210 - root_mean_squared_error: 14.8432\n",
            "Epoch 26: val_root_mean_squared_error did not improve from 13.83948\n",
            "18/18 [==============================] - 0s 14ms/step - loss: 217.1901 - root_mean_squared_error: 14.7374 - val_loss: 208.8058 - val_root_mean_squared_error: 14.4501\n",
            "Epoch 27/300\n",
            "15/18 [========================>.....] - ETA: 0s - loss: 221.4046 - root_mean_squared_error: 14.8797\n",
            "Epoch 27: val_root_mean_squared_error did not improve from 13.83948\n",
            "18/18 [==============================] - 0s 13ms/step - loss: 216.6630 - root_mean_squared_error: 14.7195 - val_loss: 209.9957 - val_root_mean_squared_error: 14.4912\n",
            "Epoch 28/300\n",
            "17/18 [===========================>..] - ETA: 0s - loss: 217.6180 - root_mean_squared_error: 14.7519\n",
            "Epoch 28: val_root_mean_squared_error did not improve from 13.83948\n",
            "18/18 [==============================] - 0s 13ms/step - loss: 216.9993 - root_mean_squared_error: 14.7309 - val_loss: 205.9148 - val_root_mean_squared_error: 14.3497\n",
            "Epoch 28: early stopping\n",
            "Best RMSE:  13.839481353759766\n"
          ]
        }
      ],
      "source": [
        "h = modeldl.fit(X_train_sc, y_train, epochs=300, verbose=1, callbacks=[earlystop,checkpoint], validation_data=(X_test_sc, y_test)) #\n",
        "print('Best RMSE: ',min(h.history['val_root_mean_squared_error']))"
      ]
    },
    {
      "cell_type": "code",
      "execution_count": null,
      "metadata": {
        "colab": {
          "base_uri": "https://localhost:8080/"
        },
        "outputId": "cb8c8aea-a824-413b-a232-5af37dc81ad4",
        "id": "LvyHAcpGhmka"
      },
      "outputs": [
        {
          "output_type": "stream",
          "name": "stdout",
          "text": [
            "Best RMSE:  13.839\n"
          ]
        }
      ],
      "source": [
        "score = np.round(min(h.history['val_root_mean_squared_error']),3)\n",
        "print('Best RMSE: ',score)\n",
        "modelScore[modelName] = score"
      ]
    },
    {
      "cell_type": "code",
      "source": [
        "pt = PrettyTable()\n",
        "pt.field_names = ['Model', 'RMSE Score']\n",
        "pt.add_row(['Baseline Model', 15.31])\n",
        "pt.add_row(['Linear Regression-Univariate',  12.602])\n",
        "pt.add_row(['Linear Regression-Multivariate',  modelScore['Linear Regression']])\n",
        "pt.add_row(['Random Forest-Univariate',  12.165])\n",
        "pt.add_row(['Random Forest-Multivariate',  modelScore['Random Forest']])\n",
        "pt.add_row(['GRU Network-Multivariate', modelScore['GRU_mul']])\n",
        "print(pt)"
      ],
      "metadata": {
        "colab": {
          "base_uri": "https://localhost:8080/"
        },
        "id": "LvKD1RFqHNZR",
        "outputId": "d5229500-8626-4d0a-c020-8846ddf93df8"
      },
      "execution_count": null,
      "outputs": [
        {
          "output_type": "stream",
          "name": "stdout",
          "text": [
            "+--------------------------------+------------+\n",
            "|             Model              | RMSE Score |\n",
            "+--------------------------------+------------+\n",
            "|         Baseline Model         |   15.31    |\n",
            "|  Linear Regression-Univariate  |   12.602   |\n",
            "| Linear Regression-Multivariate |   7.809    |\n",
            "|    Random Forest-Univariate    |   12.165   |\n",
            "|   Random Forest-Multivariate   |    7.07    |\n",
            "|    GRU Network-Multivariate    |   13.839   |\n",
            "+--------------------------------+------------+\n"
          ]
        }
      ]
    },
    {
      "cell_type": "markdown",
      "source": [
        "We see that Multi Variate Forecasting has done lot better than Univariate Forecasting.\n",
        "\n",
        "Random Forest has given the best performance."
      ],
      "metadata": {
        "id": "b2WF36Fz_7dI"
      }
    },
    {
      "cell_type": "markdown",
      "source": [
        "## Mulitvariate, Multistep out of sample forecasting with Anomaly Detection"
      ],
      "metadata": {
        "id": "aQORIGTqJEjK"
      }
    },
    {
      "cell_type": "markdown",
      "source": [
        "During the EDA based on inferences from plots and from domain expertise, we had fixed runtime of more than 100 hours as the threshold to detect anomalies.\n",
        "\n",
        "We will incorporate this with the Random Forest Forecasting model to detect any anomalies into the future."
      ],
      "metadata": {
        "id": "W-6e3EuaJHZg"
      }
    },
    {
      "cell_type": "code",
      "source": [
        "def detect_anomaly(runtime):\n",
        "  anomaly_threshold = 100\n",
        "  if runtime > anomaly_threshold:\n",
        "    return True\n",
        "  else:\n",
        "    return False"
      ],
      "metadata": {
        "id": "XgA0ix9iah3O"
      },
      "execution_count": null,
      "outputs": []
    },
    {
      "cell_type": "code",
      "source": [
        "df_full = df.copy()\n",
        "df_full.drop(columns=['total','no_run','fail'], axis=1, inplace=True)"
      ],
      "metadata": {
        "id": "EOGpfcUuOQDF"
      },
      "execution_count": null,
      "outputs": []
    },
    {
      "cell_type": "code",
      "source": [
        "df_full.head(3)"
      ],
      "metadata": {
        "colab": {
          "base_uri": "https://localhost:8080/",
          "height": 175
        },
        "id": "V4HoB77_O0Dq",
        "outputId": "722dca57-ec45-4c0a-f18e-b11f642e3cf5"
      },
      "execution_count": null,
      "outputs": [
        {
          "output_type": "execute_result",
          "data": {
            "text/plain": [
              "             run_time  pass  exec_count\n",
              "start_time                             \n",
              "2016-01-04   6.098808   919          42\n",
              "2016-01-05   5.716791   219          82\n",
              "2016-01-06  15.538374  1977          94"
            ],
            "text/html": [
              "\n",
              "  <div id=\"df-c2da73aa-0964-4159-b104-c4931c8d212a\">\n",
              "    <div class=\"colab-df-container\">\n",
              "      <div>\n",
              "<style scoped>\n",
              "    .dataframe tbody tr th:only-of-type {\n",
              "        vertical-align: middle;\n",
              "    }\n",
              "\n",
              "    .dataframe tbody tr th {\n",
              "        vertical-align: top;\n",
              "    }\n",
              "\n",
              "    .dataframe thead th {\n",
              "        text-align: right;\n",
              "    }\n",
              "</style>\n",
              "<table border=\"1\" class=\"dataframe\">\n",
              "  <thead>\n",
              "    <tr style=\"text-align: right;\">\n",
              "      <th></th>\n",
              "      <th>run_time</th>\n",
              "      <th>pass</th>\n",
              "      <th>exec_count</th>\n",
              "    </tr>\n",
              "    <tr>\n",
              "      <th>start_time</th>\n",
              "      <th></th>\n",
              "      <th></th>\n",
              "      <th></th>\n",
              "    </tr>\n",
              "  </thead>\n",
              "  <tbody>\n",
              "    <tr>\n",
              "      <th>2016-01-04</th>\n",
              "      <td>6.098808</td>\n",
              "      <td>919</td>\n",
              "      <td>42</td>\n",
              "    </tr>\n",
              "    <tr>\n",
              "      <th>2016-01-05</th>\n",
              "      <td>5.716791</td>\n",
              "      <td>219</td>\n",
              "      <td>82</td>\n",
              "    </tr>\n",
              "    <tr>\n",
              "      <th>2016-01-06</th>\n",
              "      <td>15.538374</td>\n",
              "      <td>1977</td>\n",
              "      <td>94</td>\n",
              "    </tr>\n",
              "  </tbody>\n",
              "</table>\n",
              "</div>\n",
              "      <button class=\"colab-df-convert\" onclick=\"convertToInteractive('df-c2da73aa-0964-4159-b104-c4931c8d212a')\"\n",
              "              title=\"Convert this dataframe to an interactive table.\"\n",
              "              style=\"display:none;\">\n",
              "        \n",
              "  <svg xmlns=\"http://www.w3.org/2000/svg\" height=\"24px\"viewBox=\"0 0 24 24\"\n",
              "       width=\"24px\">\n",
              "    <path d=\"M0 0h24v24H0V0z\" fill=\"none\"/>\n",
              "    <path d=\"M18.56 5.44l.94 2.06.94-2.06 2.06-.94-2.06-.94-.94-2.06-.94 2.06-2.06.94zm-11 1L8.5 8.5l.94-2.06 2.06-.94-2.06-.94L8.5 2.5l-.94 2.06-2.06.94zm10 10l.94 2.06.94-2.06 2.06-.94-2.06-.94-.94-2.06-.94 2.06-2.06.94z\"/><path d=\"M17.41 7.96l-1.37-1.37c-.4-.4-.92-.59-1.43-.59-.52 0-1.04.2-1.43.59L10.3 9.45l-7.72 7.72c-.78.78-.78 2.05 0 2.83L4 21.41c.39.39.9.59 1.41.59.51 0 1.02-.2 1.41-.59l7.78-7.78 2.81-2.81c.8-.78.8-2.07 0-2.86zM5.41 20L4 18.59l7.72-7.72 1.47 1.35L5.41 20z\"/>\n",
              "  </svg>\n",
              "      </button>\n",
              "      \n",
              "  <style>\n",
              "    .colab-df-container {\n",
              "      display:flex;\n",
              "      flex-wrap:wrap;\n",
              "      gap: 12px;\n",
              "    }\n",
              "\n",
              "    .colab-df-convert {\n",
              "      background-color: #E8F0FE;\n",
              "      border: none;\n",
              "      border-radius: 50%;\n",
              "      cursor: pointer;\n",
              "      display: none;\n",
              "      fill: #1967D2;\n",
              "      height: 32px;\n",
              "      padding: 0 0 0 0;\n",
              "      width: 32px;\n",
              "    }\n",
              "\n",
              "    .colab-df-convert:hover {\n",
              "      background-color: #E2EBFA;\n",
              "      box-shadow: 0px 1px 2px rgba(60, 64, 67, 0.3), 0px 1px 3px 1px rgba(60, 64, 67, 0.15);\n",
              "      fill: #174EA6;\n",
              "    }\n",
              "\n",
              "    [theme=dark] .colab-df-convert {\n",
              "      background-color: #3B4455;\n",
              "      fill: #D2E3FC;\n",
              "    }\n",
              "\n",
              "    [theme=dark] .colab-df-convert:hover {\n",
              "      background-color: #434B5C;\n",
              "      box-shadow: 0px 1px 3px 1px rgba(0, 0, 0, 0.15);\n",
              "      filter: drop-shadow(0px 1px 2px rgba(0, 0, 0, 0.3));\n",
              "      fill: #FFFFFF;\n",
              "    }\n",
              "  </style>\n",
              "\n",
              "      <script>\n",
              "        const buttonEl =\n",
              "          document.querySelector('#df-c2da73aa-0964-4159-b104-c4931c8d212a button.colab-df-convert');\n",
              "        buttonEl.style.display =\n",
              "          google.colab.kernel.accessAllowed ? 'block' : 'none';\n",
              "\n",
              "        async function convertToInteractive(key) {\n",
              "          const element = document.querySelector('#df-c2da73aa-0964-4159-b104-c4931c8d212a');\n",
              "          const dataTable =\n",
              "            await google.colab.kernel.invokeFunction('convertToInteractive',\n",
              "                                                     [key], {});\n",
              "          if (!dataTable) return;\n",
              "\n",
              "          const docLinkHtml = 'Like what you see? Visit the ' +\n",
              "            '<a target=\"_blank\" href=https://colab.research.google.com/notebooks/data_table.ipynb>data table notebook</a>'\n",
              "            + ' to learn more about interactive tables.';\n",
              "          element.innerHTML = '';\n",
              "          dataTable['output_type'] = 'display_data';\n",
              "          await google.colab.output.renderOutput(dataTable, element);\n",
              "          const docLink = document.createElement('div');\n",
              "          docLink.innerHTML = docLinkHtml;\n",
              "          element.appendChild(docLink);\n",
              "        }\n",
              "      </script>\n",
              "    </div>\n",
              "  </div>\n",
              "  "
            ]
          },
          "metadata": {},
          "execution_count": 26
        }
      ]
    },
    {
      "cell_type": "code",
      "source": [
        "# Train with the entire dataset\n",
        "X_tr, y_tr = multivariate_time_window_2d(df_full[:].values, timeSteps=5, futureSteps=7)\n",
        "# Input to predict 1st out of sample value\n",
        "X_te, y_te = multivariate_time_window_2d(df_full[-5:].values, timeSteps=5, futureSteps=0)"
      ],
      "metadata": {
        "id": "ZPyO2us9J-W0"
      },
      "execution_count": null,
      "outputs": []
    },
    {
      "cell_type": "code",
      "source": [
        "# normalize the data\n",
        "scaler = StandardScaler()\n",
        "X_tr_sc = scaler.fit_transform(X_tr)\n",
        "X_te_sc = scaler.transform(X_te)\n",
        "joblib.dump(scaler, open(dirPath+'/gdrive/My Drive/casestudy/scaler.pkl','wb'))"
      ],
      "metadata": {
        "id": "KBoXa50BJ-W1"
      },
      "execution_count": null,
      "outputs": []
    },
    {
      "cell_type": "code",
      "source": [
        "# Random Forest\n",
        "modelrf = RandomForestRegressor(n_estimators = bestn_estimatorsrf, min_samples_split = bestmin_samples_splitrf ,max_depth  = bestmax_depthrf, min_samples_leaf  =bestmin_samples_leafrf , random_state=101)\n",
        "modelrf.fit(X_tr_sc, y_tr)\n",
        "joblib.dump(modelrf, open(dirPath+'/gdrive/My Drive/casestudy/rfmul.pkl','wb'))"
      ],
      "metadata": {
        "id": "dhtfJIy_MYB9"
      },
      "execution_count": null,
      "outputs": []
    },
    {
      "cell_type": "code",
      "source": [
        "y_forecast = modelrf.predict(X_te)"
      ],
      "metadata": {
        "id": "8EQIB6cfTcA8"
      },
      "execution_count": null,
      "outputs": []
    },
    {
      "cell_type": "code",
      "source": [
        "# Create a new dataframe with forecasted results.\n",
        "modelName = 'Random Forest - MultiVariate - MultiStep'\n",
        "dateIndex = pd.date_range(df_full.index[-1] + timedelta(days=1) , df_full.index[-1] + timedelta(days=7) , freq='D')\n",
        "dfF = pd.DataFrame(columns=['run_time'])\n",
        "dfF.loc[df_full.index[-1]] = df_full['run_time'][-1]\n",
        "dfForecast = pd.DataFrame(data = y_forecast.reshape(7,1), columns = ['run_time'], index= dateIndex)\n",
        "dfForecast = pd.concat([dfF, dfForecast], axis=0)\n",
        "\n",
        "# Set Anomaly Flags\n",
        "df_full['Anomaly_Flag'] = df_full['run_time'].apply(detect_anomaly)\n",
        "dfForecast['Anomaly_Flag'] = dfForecast['run_time'].apply(detect_anomaly)\n",
        "print('Forecast for next 7 days:\\n',dfForecast[1:8])\n",
        "\n",
        "# Visualize\n",
        "ax = df_full['run_time'].plot(label='Historical', figsize=(20, 7),color='green')\n",
        "dfForecast['run_time'].apply(lambda x : 0 if x<0 else x).plot(ax=ax, label='Forecast', color='blue')\n",
        "plt.scatter(x= df_full[df_full['Anomaly_Flag']==1].index, y= df_full[df_full['Anomaly_Flag']==True]['run_time'],color='red', label = 'Predicted Anomaly',linewidths=4)\n",
        "plt.scatter(x= dfForecast[dfForecast['Anomaly_Flag']==1].index, y= dfForecast[dfForecast['Anomaly_Flag']==1]['run_time'],color='black', label = 'Forecasted Anomaly',linewidths=4)\n",
        "plt.xlabel('Date')\n",
        "plt.ylabel('Runtime (hours)')\n",
        "plt.title(modelName+': Actual & Forecasted Runtimes')\n",
        "plt.legend()\n",
        "plt.show()"
      ],
      "metadata": {
        "colab": {
          "base_uri": "https://localhost:8080/",
          "height": 636
        },
        "id": "KTjXh3_TXEZf",
        "outputId": "74b7d2a1-c3ac-44c1-f3aa-c04fafe1bbeb"
      },
      "execution_count": null,
      "outputs": [
        {
          "output_type": "stream",
          "name": "stdout",
          "text": [
            "Forecast for next 7 days:\n",
            "              run_time  Anomaly_Flag\n",
            "2018-02-01  43.931956         False\n",
            "2018-02-02  35.213238         False\n",
            "2018-02-03  34.118257         False\n",
            "2018-02-04  34.184781         False\n",
            "2018-02-05  37.645652         False\n",
            "2018-02-06  34.444063         False\n",
            "2018-02-07  38.707207         False\n"
          ]
        },
        {
          "output_type": "display_data",
          "data": {
            "text/plain": [
              "<Figure size 1440x504 with 1 Axes>"
            ],
            "image/png": "[encoded data removed]"
          },
          "metadata": {
            "needs_background": "light"
          }
        }
      ]
    },
    {
      "cell_type": "markdown",
      "source": [
        "We do not have any anomalies forecasted for the next 7 days."
      ],
      "metadata": {
        "id": "8KKUF9rnmeMp"
      }
    },
    {
      "cell_type": "markdown",
      "source": [
        "## Confidence Interval\n",
        "We will use bootstrapping of samples to arrive at the 95% confidence interval of the forecast."
      ],
      "metadata": {
        "id": "PyaTErc_wQQF"
      }
    },
    {
      "cell_type": "code",
      "source": [
        "# Train Test Split\n",
        "size = int(len(dfmul) * 0.75)\n",
        "timesteps = 5 # Tuned value. Use past five days runtimes to predict one step in the future.\n",
        "train = dfmul.values[0:size]\n",
        "test = dfmul.values[size:]\n",
        "\n",
        "samp_size = int(len(train)*0.5)\n",
        "predList = []\n",
        "for i in tqdm(range(100)): # 100 set of random samples\n",
        "  samp_index = np.random.choice(train.shape[0], samp_size, replace=False)  \n",
        "  X_train, y_train = multivariate_time_window_2d(train[samp_index], timeSteps=5, futureSteps=7)\n",
        "  X_test, y_test = multivariate_time_window_2d(test, timeSteps=5, futureSteps=7)\n",
        "\n",
        "  # normalize the data\n",
        "  scaler = StandardScaler()\n",
        "  X_train_sc = scaler.fit_transform(X_train)\n",
        "  X_test_sc = scaler.transform(X_test)\n",
        "\n",
        "\n",
        "  modelrf = RandomForestRegressor(n_estimators = bestn_estimatorsrf, min_samples_split = bestmin_samples_splitrf ,max_depth  = bestmax_depthrf, min_samples_leaf  =bestmin_samples_leafrf , random_state=101)\n",
        "  modelrf.fit(X_tr_sc, y_tr)\n",
        "\n",
        "  y_forecast = modelrf.predict(X_test_sc)\n",
        "  lst_7dayAvg = []\n",
        "  for i in range(len(y_forecast)):\n",
        "    lst_7dayAvg.append(y_forecast[i].mean()) # 7 days average from each forecast.\n",
        "  predList.append(np.mean(lst_7dayAvg)) # Average runtime predicted per iteration."
      ],
      "metadata": {
        "id": "LgUsPJZhwOS5"
      },
      "execution_count": null,
      "outputs": []
    },
    {
      "cell_type": "code",
      "source": [
        "# Calculate 95% Confidence Interval Thresholds\n",
        "ci_dict = {}\n",
        "ci_dict['lower'] = np.percentile(predList, 2.5)/np.percentile(predList, 50)\n",
        "ci_dict['upper'] = np.percentile(predList, 97.5)/np.percentile(predList, 50)"
      ],
      "metadata": {
        "id": "H3f8gAE_wYEl"
      },
      "execution_count": null,
      "outputs": []
    },
    {
      "cell_type": "markdown",
      "source": [
        "**Summary**\n",
        "\n",
        "The Random Forest MultiVariate-MultiStep forecasting with Anomaly Detection worked best and will be deployed."
      ],
      "metadata": {
        "id": "nPmV9JhvnAU5"
      }
    }
  ],
  "metadata": {
    "colab": {
      "provenance": [],
      "collapsed_sections": [
        "2OP9GHUaWMDM",
        "1mlvylQRHQEb",
        "TPE3WM4y8gLU"
      ]
    },
    "kernelspec": {
      "display_name": "Python 3",
      "name": "python3"
    },
    "language_info": {
      "name": "python"
    }
  },
  "nbformat": 4,
  "nbformat_minor": 0
}